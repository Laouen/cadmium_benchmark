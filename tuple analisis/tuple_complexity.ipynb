{
 "cells": [
  {
   "cell_type": "code",
   "execution_count": 10,
   "metadata": {},
   "outputs": [
    {
     "name": "stderr",
     "output_type": "stream",
     "text": [
      "/usr/local/lib/python2.7/dist-packages/statsmodels/compat/pandas.py:56: FutureWarning: The pandas.core.datetools module is deprecated and will be removed in a future version. Please use the pandas.tseries module instead.\n",
      "  from pandas.core import datetools\n"
     ]
    }
   ],
   "source": [
    "%matplotlib inline\n",
    "from matplotlib import pyplot as plt\n",
    "import numpy as np\n",
    "from IPython.display import display\n",
    "import seaborn as sns\n",
    "import pandas as pd\n",
    "from scipy import stats\n",
    "from scipy.optimize import curve_fit\n",
    "import statsmodels.api as sm\n",
    "import statsmodels.formula.api as smf\n",
    "\n",
    "plt.style.use('ggplot')\n",
    "pd.options.display.max_rows = 999"
   ]
  },
  {
   "cell_type": "code",
   "execution_count": 30,
   "metadata": {},
   "outputs": [
    {
     "name": "stdout",
     "output_type": "stream",
     "text": [
      "                            OLS Regression Results                            \n",
      "==============================================================================\n",
      "Dep. Variable:                 memory   R-squared:                       1.000\n",
      "Model:                            OLS   Adj. R-squared:                  1.000\n",
      "Method:                 Least Squares   F-statistic:                 1.289e+04\n",
      "Date:                Tue, 01 May 2018   Prob (F-statistic):           1.01e-09\n",
      "Time:                        21:52:24   Log-Likelihood:                 7.6509\n",
      "No. Observations:                   7   AIC:                            -11.30\n",
      "Df Residuals:                       5   BIC:                            -11.41\n",
      "Df Model:                           1                                         \n",
      "Covariance Type:            nonrobust                                         \n",
      "====================================================================================\n",
      "                       coef    std err          t      P>|t|      [0.025      0.975]\n",
      "------------------------------------------------------------------------------------\n",
      "Intercept            0.1480      0.054      2.729      0.041       0.009       0.287\n",
      "pow(size, 2.853)  4.639e-07   4.09e-09    113.514      0.000    4.53e-07    4.74e-07\n",
      "==============================================================================\n",
      "Omnibus:                          nan   Durbin-Watson:                   2.579\n",
      "Prob(Omnibus):                    nan   Jarque-Bera (JB):                0.998\n",
      "Skew:                          -0.925   Prob(JB):                        0.607\n",
      "Kurtosis:                       3.025   Cond. No.                     1.98e+07\n",
      "==============================================================================\n",
      "\n",
      "Warnings:\n",
      "[1] Standard Errors assume that the covariance matrix of the errors is correctly specified.\n",
      "[2] The condition number is large, 1.98e+07. This might indicate that there are\n",
      "strong multicollinearity or other numerical problems.\n",
      "1000\n",
      "1000\n",
      "1000\n"
     ]
    },
    {
     "data": {
      "image/png": "[encoded data removed]",
      "text/plain": [
       "<matplotlib.figure.Figure at 0x7f862b706550>"
      ]
     },
     "metadata": {},
     "output_type": "display_data"
    }
   ],
   "source": [
    "# Fit 1000 models\n",
    "df = pd.read_csv('./results.csv', sep=';')\n",
    "\n",
    "exponents = [2.0 + float(x)/1000.0 for x in range(1000)]\n",
    "results = [smf.ols('memory ~ pow(size,' + str(x) + ')', data=df).fit() for x in exponents]\n",
    "\n",
    "best_result = results[0]\n",
    "for result in results:\n",
    "    if result.rsquared > best_result.rsquared:\n",
    "        best_result = result\n",
    "\n",
    "\n",
    "print(best_result.summary())\n",
    "\n",
    "# Ploting the model and the data means\n",
    "df_predicted = pd.DataFrame({'size': range(1000)})\n",
    "\n",
    "df_predicted = sm.add_constant(df_predicted)\n",
    "df_predicted.loc[:,('predicted_memory')] = best_result.predict(df_predicted)\n",
    "\n",
    "plt.plot(df_predicted['size'], df_predicted['predicted_memory'], 'r-', linewidth=2)\n",
    "plt.plot(df['size'], df['memory'], 'b*', linewidth=2)\n",
    "\n",
    "#axes = plt.gca()\n",
    "#axes.set_xlim([0.0,1.0])\n",
    "#axes.set_ylim([0.0,1.0])\n",
    "plt.show()"
   ]
  }
 ],
 "metadata": {
  "kernelspec": {
   "display_name": "Python 2",
   "language": "python",
   "name": "python2"
  },
  "language_info": {
   "codemirror_mode": {
    "name": "ipython",
    "version": 2
   },
   "file_extension": ".py",
   "mimetype": "text/x-python",
   "name": "python",
   "nbconvert_exporter": "python",
   "pygments_lexer": "ipython2",
   "version": "2.7.12"
  }
 },
 "nbformat": 4,
 "nbformat_minor": 2
}
