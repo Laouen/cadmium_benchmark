{
 "cells": [
  {
   "cell_type": "code",
   "execution_count": 4,
   "metadata": {
    "collapsed": true
   },
   "outputs": [],
   "source": [
    "import pandas as pd\n",
    "import matplotlib.pyplot as plt\n",
    "import seaborn as sns\n",
    "from math import ceil"
   ]
  },
  {
   "cell_type": "code",
   "execution_count": 5,
   "metadata": {
    "collapsed": true
   },
   "outputs": [],
   "source": [
    "# Las funcioes links coupleds atomics calcula la cantidad de links coupleds atomics correspondientes a un modelo test\n",
    "# generado por test/utilities/generate_sbml.py para un tamaño de n reacciones\n",
    "def links(n):\n",
    "    groups = ceil((float(n) / 150.0))\n",
    "    return 6 + 5*2 + 16 + 3 * (groups * 3 + 1) + 2 * (groups * 5 + 1) + (groups * 4 + 1) + 6 * n\n",
    "\n",
    "def coupleds(n):\n",
    "    groups = ceil(float(n) / 150)\n",
    "    return 1 + 3 + 2 * (1 + groups) + 4 + 4 * groups\n",
    "\n",
    "def atomics(n):\n",
    "    groups = ceil(float(n) / 150)\n",
    "    return 3 + 6 + 6 * groups + 6 * n\n",
    "\n",
    "# remoueve todas las lineas en blanco que tienen el symbolo \\r como separador\n",
    "def remove_empty_lines(path):                  \n",
    "    f = open(path, 'r')\n",
    "    a = f.readlines()[0].split('\\r')\n",
    "    a = [l for l in a if l != '']\n",
    "    f2 = open(path + '.cropted', 'w')\n",
    "    f2.write('\\n'.join(a))\n",
    "    f2.close()\n",
    "    f.close()"
   ]
  },
  {
   "cell_type": "code",
   "execution_count": 10,
   "metadata": {},
   "outputs": [
    {
     "data": {
      "text/html": [
       "<div>\n",
       "<style>\n",
       "    .dataframe thead tr:only-child th {\n",
       "        text-align: right;\n",
       "    }\n",
       "\n",
       "    .dataframe thead th {\n",
       "        text-align: left;\n",
       "    }\n",
       "\n",
       "    .dataframe tbody tr th {\n",
       "        vertical-align: top;\n",
       "    }\n",
       "</style>\n",
       "<table border=\"1\" class=\"dataframe\">\n",
       "  <thead>\n",
       "    <tr style=\"text-align: right;\">\n",
       "      <th></th>\n",
       "      <th>reactions</th>\n",
       "      <th>process</th>\n",
       "      <th>time_seconds</th>\n",
       "      <th>ram_kb</th>\n",
       "      <th>ram_gb</th>\n",
       "      <th>atomics</th>\n",
       "      <th>links</th>\n",
       "      <th>coupleds</th>\n",
       "    </tr>\n",
       "  </thead>\n",
       "  <tbody>\n",
       "    <tr>\n",
       "      <th>0</th>\n",
       "      <td>1</td>\n",
       "      <td>compile</td>\n",
       "      <td>45.59</td>\n",
       "      <td>2062104</td>\n",
       "      <td>2.062104</td>\n",
       "      <td>21.0</td>\n",
       "      <td>67.0</td>\n",
       "      <td>16.0</td>\n",
       "    </tr>\n",
       "    <tr>\n",
       "      <th>1</th>\n",
       "      <td>3</td>\n",
       "      <td>compile</td>\n",
       "      <td>43.67</td>\n",
       "      <td>2073976</td>\n",
       "      <td>2.073976</td>\n",
       "      <td>33.0</td>\n",
       "      <td>79.0</td>\n",
       "      <td>16.0</td>\n",
       "    </tr>\n",
       "    <tr>\n",
       "      <th>2</th>\n",
       "      <td>5</td>\n",
       "      <td>compile</td>\n",
       "      <td>43.44</td>\n",
       "      <td>2086700</td>\n",
       "      <td>2.086700</td>\n",
       "      <td>45.0</td>\n",
       "      <td>91.0</td>\n",
       "      <td>16.0</td>\n",
       "    </tr>\n",
       "    <tr>\n",
       "      <th>3</th>\n",
       "      <td>7</td>\n",
       "      <td>compile</td>\n",
       "      <td>43.76</td>\n",
       "      <td>2101724</td>\n",
       "      <td>2.101724</td>\n",
       "      <td>57.0</td>\n",
       "      <td>103.0</td>\n",
       "      <td>16.0</td>\n",
       "    </tr>\n",
       "    <tr>\n",
       "      <th>4</th>\n",
       "      <td>9</td>\n",
       "      <td>compile</td>\n",
       "      <td>44.36</td>\n",
       "      <td>2116352</td>\n",
       "      <td>2.116352</td>\n",
       "      <td>69.0</td>\n",
       "      <td>115.0</td>\n",
       "      <td>16.0</td>\n",
       "    </tr>\n",
       "  </tbody>\n",
       "</table>\n",
       "</div>"
      ],
      "text/plain": [
       "   reactions  process  time_seconds   ram_kb    ram_gb  atomics  links  \\\n",
       "0          1  compile         45.59  2062104  2.062104     21.0   67.0   \n",
       "1          3  compile         43.67  2073976  2.073976     33.0   79.0   \n",
       "2          5  compile         43.44  2086700  2.086700     45.0   91.0   \n",
       "3          7  compile         43.76  2101724  2.101724     57.0  103.0   \n",
       "4          9  compile         44.36  2116352  2.116352     69.0  115.0   \n",
       "\n",
       "   coupleds  \n",
       "0      16.0  \n",
       "1      16.0  \n",
       "2      16.0  \n",
       "3      16.0  \n",
       "4      16.0  "
      ]
     },
     "execution_count": 10,
     "metadata": {},
     "output_type": "execute_result"
    }
   ],
   "source": [
    "df = pd.read_csv('../results_compile/result.csv', sep=';')\n",
    "df['ram_gb'] = df.apply(lambda x: x['ram_kb'] / 1000000.0, axis=1)\n",
    "df['atomics'] = df.apply(lambda x: atomics(x['reactions']), axis=1)\n",
    "df['links'] = df.apply(lambda x: links(x['reactions']), axis=1)\n",
    "df['coupleds'] = df.apply(lambda x: coupleds(x['reactions']), axis=1)\n",
    "\n",
    "df_compile = df[df['process'] == 'compile']\n",
    "df_link = df[df['process'] == 'link']\n",
    "\n",
    "df.head()"
   ]
  },
  {
   "cell_type": "code",
   "execution_count": 12,
   "metadata": {},
   "outputs": [
    {
     "data": {
      "image/png": "[encoded data removed]",
      "text/plain": [
       "<matplotlib.figure.Figure at 0x7fa077e7c150>"
      ]
     },
     "metadata": {},
     "output_type": "display_data"
    }
   ],
   "source": [
    "#sns.barplot(x='reaction_amout', y='ram_gb', data=df)\n",
    "df_compile.plot(x='reactions', y='ram_gb')\n",
    "plt.show()"
   ]
  },
  {
   "cell_type": "code",
   "execution_count": 10,
   "metadata": {},
   "outputs": [
    {
     "data": {
      "image/png": "[encoded data removed]",
      "text/plain": [
       "<matplotlib.figure.Figure at 0x7f9c9992a210>"
      ]
     },
     "metadata": {},
     "output_type": "display_data"
    }
   ],
   "source": [
    "df.plot(x='reactions', y='time_seconds')\n",
    "plt.show()"
   ]
  },
  {
   "cell_type": "code",
   "execution_count": null,
   "metadata": {
    "collapsed": true
   },
   "outputs": [],
   "source": []
  }
 ],
 "metadata": {
  "kernelspec": {
   "display_name": "Python 2",
   "language": "python",
   "name": "python2"
  },
  "language_info": {
   "codemirror_mode": {
    "name": "ipython",
    "version": 2
   },
   "file_extension": ".py",
   "mimetype": "text/x-python",
   "name": "python",
   "nbconvert_exporter": "python",
   "pygments_lexer": "ipython2",
   "version": "2.7.12"
  }
 },
 "nbformat": 4,
 "nbformat_minor": 2
}
