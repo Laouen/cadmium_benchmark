{
 "cells": [
  {
   "cell_type": "code",
   "execution_count": 17,
   "metadata": {
    "collapsed": true
   },
   "outputs": [],
   "source": [
    "import pandas as pd\n",
    "import seaborn as sns\n",
    "from math import ceil\n",
    "import matplotlib.pyplot as plt\n",
    "sns.set()"
   ]
  },
  {
   "cell_type": "code",
   "execution_count": 11,
   "metadata": {
    "collapsed": true
   },
   "outputs": [],
   "source": [
    "def links(n):\n",
    "    groups = ceil((float(n) / 150.0))\n",
    "    return 6 + 5*2 + 16 + 3 * (groups * 3 + 1) + 2 * (groups * 5 + 1) + (groups * 4 + 1) + 6 * n\n",
    "\n",
    "def coupleds(n):\n",
    "    groups = int(ceil(float(n) / 150))\n",
    "    return 1 + 3 + 2 * (1 + groups) + 4 + 4 * groups\n",
    "\n",
    "def atomics(n):\n",
    "    groups = int(ceil(float(n) / 150))\n",
    "    return 3 + 6 + 6 * groups + 6 * n"
   ]
  },
  {
   "cell_type": "code",
   "execution_count": 14,
   "metadata": {},
   "outputs": [
    {
     "data": {
      "text/html": [
       "<div>\n",
       "<style>\n",
       "    .dataframe thead tr:only-child th {\n",
       "        text-align: right;\n",
       "    }\n",
       "\n",
       "    .dataframe thead th {\n",
       "        text-align: left;\n",
       "    }\n",
       "\n",
       "    .dataframe tbody tr th {\n",
       "        vertical-align: top;\n",
       "    }\n",
       "</style>\n",
       "<table border=\"1\" class=\"dataframe\">\n",
       "  <thead>\n",
       "    <tr style=\"text-align: right;\">\n",
       "      <th></th>\n",
       "      <th>reactions</th>\n",
       "      <th>process</th>\n",
       "      <th>time_seconds</th>\n",
       "      <th>ram_kb</th>\n",
       "      <th>atomics</th>\n",
       "      <th>coupleds</th>\n",
       "      <th>memory GB</th>\n",
       "    </tr>\n",
       "  </thead>\n",
       "  <tbody>\n",
       "    <tr>\n",
       "      <th>0</th>\n",
       "      <td>1</td>\n",
       "      <td>compile</td>\n",
       "      <td>45.59</td>\n",
       "      <td>2062104</td>\n",
       "      <td>21</td>\n",
       "      <td>16</td>\n",
       "      <td>1.966576</td>\n",
       "    </tr>\n",
       "    <tr>\n",
       "      <th>1</th>\n",
       "      <td>3</td>\n",
       "      <td>compile</td>\n",
       "      <td>43.67</td>\n",
       "      <td>2073976</td>\n",
       "      <td>33</td>\n",
       "      <td>16</td>\n",
       "      <td>1.977898</td>\n",
       "    </tr>\n",
       "    <tr>\n",
       "      <th>2</th>\n",
       "      <td>5</td>\n",
       "      <td>compile</td>\n",
       "      <td>43.44</td>\n",
       "      <td>2086700</td>\n",
       "      <td>45</td>\n",
       "      <td>16</td>\n",
       "      <td>1.990032</td>\n",
       "    </tr>\n",
       "    <tr>\n",
       "      <th>3</th>\n",
       "      <td>7</td>\n",
       "      <td>compile</td>\n",
       "      <td>43.76</td>\n",
       "      <td>2101724</td>\n",
       "      <td>57</td>\n",
       "      <td>16</td>\n",
       "      <td>2.004360</td>\n",
       "    </tr>\n",
       "    <tr>\n",
       "      <th>4</th>\n",
       "      <td>9</td>\n",
       "      <td>compile</td>\n",
       "      <td>44.36</td>\n",
       "      <td>2116352</td>\n",
       "      <td>69</td>\n",
       "      <td>16</td>\n",
       "      <td>2.018311</td>\n",
       "    </tr>\n",
       "  </tbody>\n",
       "</table>\n",
       "</div>"
      ],
      "text/plain": [
       "   reactions  process  time_seconds   ram_kb  atomics  coupleds  memory GB\n",
       "0          1  compile         45.59  2062104       21        16   1.966576\n",
       "1          3  compile         43.67  2073976       33        16   1.977898\n",
       "2          5  compile         43.44  2086700       45        16   1.990032\n",
       "3          7  compile         43.76  2101724       57        16   2.004360\n",
       "4          9  compile         44.36  2116352       69        16   2.018311"
      ]
     },
     "execution_count": 14,
     "metadata": {},
     "output_type": "execute_result"
    }
   ],
   "source": [
    "df = pd.read_csv('../results/result.csv', sep=';')\n",
    "df['atomics'] = df['reactions'].apply(atomics)\n",
    "df['coupleds'] = df['reactions'].apply(coupleds)\n",
    "df['memory GB'] = df['ram_kb'].apply(lambda m: m / 1024.0 / 1024.0)\n",
    "df.head()"
   ]
  },
  {
   "cell_type": "code",
   "execution_count": 20,
   "metadata": {},
   "outputs": [
    {
     "data": {
      "image/png": "[encoded data removed]",
      "text/plain": [
       "<matplotlib.figure.Figure at 0x7fa82557c810>"
      ]
     },
     "metadata": {},
     "output_type": "display_data"
    }
   ],
   "source": [
    "df[df.process == 'compile'].plot(x='atomics', y='memory GB')\n",
    "plt.show()"
   ]
  }
 ],
 "metadata": {
  "kernelspec": {
   "display_name": "Python 2",
   "language": "python",
   "name": "python2"
  },
  "language_info": {
   "codemirror_mode": {
    "name": "ipython",
    "version": 2
   },
   "file_extension": ".py",
   "mimetype": "text/x-python",
   "name": "python",
   "nbconvert_exporter": "python",
   "pygments_lexer": "ipython2",
   "version": "2.7.12"
  }
 },
 "nbformat": 4,
 "nbformat_minor": 2
}
